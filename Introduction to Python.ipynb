{
 "cells": [
  {
   "cell_type": "markdown",
   "metadata": {},
   "source": [
    "## Python basics\n",
    "In particular, we will focus on a very helpful mathematical library called numpy. To learn more about numpy, or to use as future reference visit [this link](http://cs231n.github.io/python-numpy-tutorial/#numpy-arrays). I highly recommend you bookmark this and refer to it throughout this course.\n",
    "\n",
    "Lets start by importing numpy. To keep your code clean and easy to read, **you should always import libraries in the first cell**."
   ]
  },
  {
   "cell_type": "code",
   "execution_count": 1,
   "metadata": {},
   "outputs": [],
   "source": [
    "import numpy as np"
   ]
  },
  {
   "cell_type": "markdown",
   "metadata": {},
   "source": [
    "Numpy contains many useful mathematical functions which we will use throughout this course. We use np to represent numpy. Whenever you want to use a numpy function, after `np` you need to add a `.` and then the name of the function. This tells python that the function you are calling is from the numpy library."
   ]
  },
  {
   "cell_type": "code",
   "execution_count": 2,
   "metadata": {},
   "outputs": [
    {
     "data": {
      "text/plain": [
       "9"
      ]
     },
     "execution_count": 2,
     "metadata": {},
     "output_type": "execute_result"
    }
   ],
   "source": [
    "np.add(4,5)"
   ]
  },
  {
   "cell_type": "markdown",
   "metadata": {},
   "source": [
    "### Types\n",
    "\n",
    "Each variable or number that you input will have a type associated to it.\n",
    "\n",
    "**Boolean:** These are limited to `True` or `False`.\n",
    "\n",
    "**String:** We signal to Python to make an element a string by putting it within quote marks. It doesn't matter if you use single quotes `' '` or double quotes  `\" \"`\n",
    "\n",
    "**Int:** Python will automatically assign this type to any whole number.\n",
    "\n",
    "**Float:** Similarly, Python will assign this type to any number that contains a decimal point.\n"
   ]
  },
  {
   "cell_type": "code",
   "execution_count": 5,
   "metadata": {},
   "outputs": [
    {
     "name": "stdout",
     "output_type": "stream",
     "text": [
      "<class 'bool'>\n",
      "<class 'str'>\n",
      "<class 'int'>\n",
      "<class 'float'>\n"
     ]
    }
   ],
   "source": [
    "print(type(True))\n",
    "print(type('True')) # Note how this becomes a string not a boolean term because of the quote marks\n",
    "print(type(10))\n",
    "print(type(10.0)) # Note how this becomes a floating point number as we add the decimal place"
   ]
  },
  {
   "cell_type": "markdown",
   "metadata": {},
   "source": [
    "String arirthmetic in python is very helpful when we want to load a file."
   ]
  },
  {
   "cell_type": "code",
   "execution_count": 46,
   "metadata": {},
   "outputs": [
    {
     "data": {
      "text/plain": [
       "'Documents/Teaching/KF5012/Example.py'"
      ]
     },
     "execution_count": 46,
     "metadata": {},
     "output_type": "execute_result"
    }
   ],
   "source": [
    "directory = 'Documents/Teaching/KF5012/'\n",
    "filename = 'Example.py'\n",
    "\n",
    "directory + filename"
   ]
  },
  {
   "cell_type": "markdown",
   "metadata": {},
   "source": [
    "### Lists\n",
    "List are an easy way to store information, including results.\n"
   ]
  },
  {
   "cell_type": "code",
   "execution_count": 7,
   "metadata": {},
   "outputs": [],
   "source": [
    "my_list = [0, 1, 1, 3, 4, 4, 6, 6, 10]"
   ]
  },
  {
   "cell_type": "markdown",
   "metadata": {},
   "source": [
    "To add a new element to the end of the list, use `.append`"
   ]
  },
  {
   "cell_type": "code",
   "execution_count": 22,
   "metadata": {},
   "outputs": [
    {
     "data": {
      "text/plain": [
       "[0, 1, 2, 3, 4, 4, 6, 6, 10]"
      ]
     },
     "execution_count": 22,
     "metadata": {},
     "output_type": "execute_result"
    }
   ],
   "source": [
    "my_list.append(10)\n",
    "my_list"
   ]
  },
  {
   "cell_type": "markdown",
   "metadata": {},
   "source": [
    "### Loops and if statements:\n",
    "These will be extremely helpful in any machine learning model. In the following practicals, we will need to loop through all of our data. Let's learn how to do this.\n",
    "\n",
    "#### If statements\n",
    "If statements are very intuitive. The most important statements to call are `if` `elif`, and `else`"
   ]
  },
  {
   "cell_type": "code",
   "execution_count": 12,
   "metadata": {},
   "outputs": [
    {
     "name": "stdout",
     "output_type": "stream",
     "text": [
      "hi\n"
     ]
    }
   ],
   "source": [
    "my_string = 'hello'\n",
    "\n",
    "if len(my_string)>3:\n",
    "    print('hi')\n",
    "else:\n",
    "    print('hey')"
   ]
  },
  {
   "cell_type": "markdown",
   "metadata": {},
   "source": [
    "Here `len` is a function that returns the length of the string."
   ]
  },
  {
   "cell_type": "markdown",
   "metadata": {},
   "source": [
    "#### Loops"
   ]
  },
  {
   "cell_type": "code",
   "execution_count": 59,
   "metadata": {},
   "outputs": [
    {
     "name": "stdout",
     "output_type": "stream",
     "text": [
      "0 3\n",
      "1 4\n",
      "2 5\n",
      "3 6\n",
      "4 7\n"
     ]
    }
   ],
   "source": [
    "for i in range(5):\n",
    "    j = i+3\n",
    "    print(i, j)"
   ]
  },
  {
   "cell_type": "markdown",
   "metadata": {},
   "source": [
    "Alternatively, you can explicitly loop over a list, as follows"
   ]
  },
  {
   "cell_type": "code",
   "execution_count": 61,
   "metadata": {},
   "outputs": [
    {
     "name": "stdout",
     "output_type": "stream",
     "text": [
      "0 0\n",
      "1 1\n",
      "2 4\n",
      "3 9\n",
      "4 16\n",
      "4 16\n",
      "6 36\n",
      "6 36\n",
      "10 100\n"
     ]
    }
   ],
   "source": [
    "for i in my_list:\n",
    "    j = i*i\n",
    "    print(i, j)"
   ]
  },
  {
   "cell_type": "markdown",
   "metadata": {},
   "source": [
    "#### Loops and if statements together"
   ]
  },
  {
   "cell_type": "code",
   "execution_count": 48,
   "metadata": {},
   "outputs": [
    {
     "name": "stdout",
     "output_type": "stream",
     "text": [
      "Found x at position 4\n",
      "Found x at position 5\n"
     ]
    }
   ],
   "source": [
    "x = 4\n",
    "j=0\n",
    "for i in my_list:\n",
    "    if (i == x):\n",
    "        print('Found x at position', j)\n",
    "    j=j+1"
   ]
  },
  {
   "cell_type": "code",
   "execution_count": 56,
   "metadata": {},
   "outputs": [
    {
     "name": "stdout",
     "output_type": "stream",
     "text": [
      "Found x at position 4\n",
      "Found x at position 5\n"
     ]
    }
   ],
   "source": [
    "new_list = [] #Here we initialise the list as empty and we will fill it as we find more\n",
    "\n",
    "x = 4\n",
    "j = 0\n",
    "for i in my_list:\n",
    "    if (i == x):\n",
    "        new_list.append(j)\n",
    "    j = j+1\n",
    "    \n",
    "if new_list == []: \n",
    "    print ('Could not find x')\n",
    "else:\n",
    "    for i in new_list:\n",
    "        print('Found x at position', i)"
   ]
  },
  {
   "cell_type": "markdown",
   "metadata": {},
   "source": [
    "### Functions"
   ]
  },
  {
   "cell_type": "code",
   "execution_count": 68,
   "metadata": {},
   "outputs": [
    {
     "name": "stdout",
     "output_type": "stream",
     "text": [
      "-2 made positive is 2\n",
      "-1 made positive is 1\n",
      "0 made positive is 0\n",
      "1 made positive is 1\n",
      "2 made positive is 2\n"
     ]
    }
   ],
   "source": [
    "def make_positive(x):\n",
    "    if x>0:\n",
    "        return x\n",
    "    elif x<0:\n",
    "        return -x\n",
    "    else:\n",
    "        return 0\n",
    "    \n",
    "a = [-2, -1, 0 , 1, 2]\n",
    "\n",
    "for i in a:\n",
    "    print(i, 'made positive is', make_positive(i))"
   ]
  },
  {
   "cell_type": "markdown",
   "metadata": {},
   "source": []
  },
  {
   "cell_type": "code",
   "execution_count": null,
   "metadata": {},
   "outputs": [],
   "source": []
  }
 ],
 "metadata": {
  "kernelspec": {
   "display_name": "Python 3",
   "language": "python",
   "name": "python3"
  },
  "language_info": {
   "codemirror_mode": {
    "name": "ipython",
    "version": 3
   },
   "file_extension": ".py",
   "mimetype": "text/x-python",
   "name": "python",
   "nbconvert_exporter": "python",
   "pygments_lexer": "ipython3",
   "version": "3.7.4"
  }
 },
 "nbformat": 4,
 "nbformat_minor": 2
}
