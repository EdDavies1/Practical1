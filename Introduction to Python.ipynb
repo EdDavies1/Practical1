{
 "cells": [
  {
   "cell_type": "markdown",
   "metadata": {},
   "source": [
    "## Python basics\n",
    "In particular, we will focus on a very helpful mathematical library called numpy. To learn more about numpy, or to use as future reference visit [this link](http://cs231n.github.io/python-numpy-tutorial/#numpy-arrays). I highly recommend you bookmark this and refer to it throughout this course.\n",
    "\n",
    "Lets start by importing numpy. To keep your code clean and easy to read, **you should always import libraries in the first cell**."
   ]
  },
  {
   "cell_type": "code",
   "execution_count": 1,
   "metadata": {},
   "outputs": [],
   "source": [
    "import numpy as np"
   ]
  },
  {
   "cell_type": "markdown",
   "metadata": {},
   "source": [
    "Numpy contains many useful mathematical functions which we will use throughout this course. We use np to represent numpy. Whenever you want to use a numpy function, after `np` you need to add a `.` and then the name of the function. This tells python that the function you are calling is from the numpy library."
   ]
  },
  {
   "cell_type": "code",
   "execution_count": 2,
   "metadata": {},
   "outputs": [
    {
     "data": {
      "text/plain": [
       "9"
      ]
     },
     "execution_count": 2,
     "metadata": {},
     "output_type": "execute_result"
    }
   ],
   "source": [
    "np.add(4,5)"
   ]
  },
  {
   "cell_type": "markdown",
   "metadata": {},
   "source": [
    "### Types\n",
    "\n",
    "Each variable or number that you input will have a type associated to it.\n",
    "#### Boolean\n",
    "These are limited to `True` or `False`.\n",
    "#### String\n",
    "We signal to Python to make something a string by putting it within quote marks. It doesn't matter if you use single quotes `' '` or double quotes  `\" \"`\n",
    "#### Int\n",
    "Python will automatically assign this type to any whole number.\n",
    "#### Float\n",
    "Similarly, Python will assign this type to any number that contains a decimal point.\n"
   ]
  },
  {
   "cell_type": "code",
   "execution_count": 5,
   "metadata": {},
   "outputs": [
    {
     "name": "stdout",
     "output_type": "stream",
     "text": [
      "<class 'bool'>\n",
      "<class 'str'>\n",
      "<class 'int'>\n",
      "<class 'float'>\n"
     ]
    }
   ],
   "source": [
    "print(type(True))\n",
    "print(type('True')) # Note how this becomes a string not a boolean term because of the quote marks\n",
    "print(type(10))\n",
    "print(type(10.0)) # Note how this becomes a floating point number as we add the decimal place"
   ]
  },
  {
   "cell_type": "markdown",
   "metadata": {},
   "source": [
    "### Lists"
   ]
  },
  {
   "cell_type": "code",
   "execution_count": null,
   "metadata": {},
   "outputs": [],
   "source": []
  },
  {
   "cell_type": "markdown",
   "metadata": {},
   "source": [
    "### Loops and if statements"
   ]
  },
  {
   "cell_type": "code",
   "execution_count": null,
   "metadata": {},
   "outputs": [],
   "source": []
  },
  {
   "cell_type": "markdown",
   "metadata": {},
   "source": [
    "### Functions"
   ]
  },
  {
   "cell_type": "code",
   "execution_count": null,
   "metadata": {},
   "outputs": [],
   "source": []
  },
  {
   "cell_type": "markdown",
   "metadata": {},
   "source": [
    "## Exercise 1\n",
    "The Rectified Linear Unit function $\\operatorname{ReLU}(x) = \\max\\{0,x\\}$ is a non-linearity which is essential to most neural networks.\n",
    "\n",
    "**1. a)** Write a function that will take a floating point number $x$ and return $\\operatorname{ReLU}(x)$.\n",
    "\n",
    "Hint: \n",
    "The ReLU function can be reformulated as $\\operatorname{ReLU}(x) =  \\begin{cases}\n",
    "x & \\mathrm{if} \\, x \\geq 0,\\\\ \n",
    "0 & \\mathrm{if} \\, x < 0.\n",
    "\\end{cases}$\n",
    "\n",
    "\n",
    "**1. b)** An extension of ReLU is the Exponential Linear Unit. \n",
    "\n",
    "> $\\operatorname{ELU}(x) =  \\begin{cases}\n",
    "x &  \\mathrm{if} \\, x \\geq 0,\\\\ \n",
    "\\alpha(\\mathrm{e}^x-1) & \\mathrm{if} \\, x < 0. \\end{cases}$\n",
    "\n",
    "Hint:\n",
    "You might need `np.exp`."
   ]
  },
  {
   "cell_type": "code",
   "execution_count": null,
   "metadata": {},
   "outputs": [],
   "source": []
  }
 ],
 "metadata": {
  "kernelspec": {
   "display_name": "Python 3",
   "language": "python",
   "name": "python3"
  },
  "language_info": {
   "codemirror_mode": {
    "name": "ipython",
    "version": 3
   },
   "file_extension": ".py",
   "mimetype": "text/x-python",
   "name": "python",
   "nbconvert_exporter": "python",
   "pygments_lexer": "ipython3",
   "version": "3.7.4"
  }
 },
 "nbformat": 4,
 "nbformat_minor": 2
}
