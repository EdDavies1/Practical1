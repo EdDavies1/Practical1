{
 "cells": [
  {
   "cell_type": "markdown",
   "metadata": {},
   "source": [
    "## Numpy Arrays"
   ]
  },
  {
   "cell_type": "code",
   "execution_count": 3,
   "metadata": {},
   "outputs": [],
   "source": [
    "import numpy as np"
   ]
  },
  {
   "cell_type": "markdown",
   "metadata": {},
   "source": [
    "### Vectors\n",
    "First lets look at one-dimensional arrays. You will find that in a lot of ways these work similarly to lists that we looked at in the previous notebook."
   ]
  },
  {
   "cell_type": "code",
   "execution_count": 20,
   "metadata": {},
   "outputs": [
    {
     "data": {
      "text/plain": [
       "numpy.ndarray"
      ]
     },
     "execution_count": 20,
     "metadata": {},
     "output_type": "execute_result"
    }
   ],
   "source": [
    "arr = np.array([0, 1, 2, 3, 4])\n",
    "type(arr)"
   ]
  },
  {
   "cell_type": "markdown",
   "metadata": {},
   "source": [
    "We can for-loop over these arrays in the same way that we looped over lists."
   ]
  },
  {
   "cell_type": "code",
   "execution_count": 18,
   "metadata": {},
   "outputs": [
    {
     "name": "stdout",
     "output_type": "stream",
     "text": [
      "array shape = (5,)\n",
      "0\n",
      "1\n",
      "4\n",
      "9\n",
      "16\n"
     ]
    }
   ],
   "source": [
    "print('array shape =', arr.shape)\n",
    "\n",
    "for i in arr:\n",
    "    print(i*i)\n"
   ]
  },
  {
   "cell_type": "markdown",
   "metadata": {},
   "source": [
    "We can examine and alter elements of arrays easily:"
   ]
  },
  {
   "cell_type": "code",
   "execution_count": 24,
   "metadata": {},
   "outputs": [
    {
     "name": "stdout",
     "output_type": "stream",
     "text": [
      "100\n",
      "100\n",
      "[  0   1   2 100   4]\n"
     ]
    }
   ],
   "source": [
    "print(arr[3])\n",
    "arr[3] = 100\n",
    "print(arr[3])\n",
    "print(arr)"
   ]
  },
  {
   "cell_type": "markdown",
   "metadata": {},
   "source": [
    "### Matrices\n",
    "So far we've looked at one-dimensional arrays, now lets look at two-dimensional ones. In the lectures, we refer to these at matrices."
   ]
  },
  {
   "cell_type": "raw",
   "metadata": {},
   "source": []
  },
  {
   "cell_type": "code",
   "execution_count": 40,
   "metadata": {},
   "outputs": [
    {
     "name": "stdout",
     "output_type": "stream",
     "text": [
      "[[1 0]\n",
      " [0 1]\n",
      " [1 0]]\n",
      "The shape of M is (3, 2)\n",
      "The height of M is 3\n",
      "The width of M is 2\n"
     ]
    }
   ],
   "source": [
    "M = np.array([[1,0],[0,1],[1,0]])\n",
    "print(M)\n",
    "print('The shape of M is', M.shape)\n",
    "print('The height of M is', M.shape[0]) # Remember indexing starts at 0\n",
    "print('The width of M is', M.shape[1])"
   ]
  },
  {
   "cell_type": "markdown",
   "metadata": {},
   "source": [
    "We can create certain matrices quickly with some standard numpy functions."
   ]
  },
  {
   "cell_type": "code",
   "execution_count": 72,
   "metadata": {},
   "outputs": [
    {
     "name": "stdout",
     "output_type": "stream",
     "text": [
      "[[0. 0.]\n",
      " [0. 0.]]\n"
     ]
    }
   ],
   "source": [
    "z2 = np.zeros((2,2))\n",
    "print(z2)"
   ]
  },
  {
   "cell_type": "code",
   "execution_count": 74,
   "metadata": {},
   "outputs": [
    {
     "name": "stdout",
     "output_type": "stream",
     "text": [
      "[[0. 0. 0. 0.]\n",
      " [0. 0. 0. 0.]\n",
      " [0. 0. 0. 0.]\n",
      " [0. 0. 0. 0.]]\n"
     ]
    }
   ],
   "source": [
    "z4 = np.zeros((4,4))\n",
    "print(z4)"
   ]
  },
  {
   "cell_type": "code",
   "execution_count": 78,
   "metadata": {},
   "outputs": [
    {
     "name": "stdout",
     "output_type": "stream",
     "text": [
      "[[1. 1. 1.]\n",
      " [1. 1. 1.]\n",
      " [1. 1. 1.]]\n"
     ]
    }
   ],
   "source": [
    "o3= np.ones((3,3))\n",
    "print(o3)"
   ]
  },
  {
   "cell_type": "code",
   "execution_count": 83,
   "metadata": {},
   "outputs": [
    {
     "name": "stdout",
     "output_type": "stream",
     "text": [
      "[[0.38411492 0.5201803 ]\n",
      " [0.56853952 0.41001648]]\n"
     ]
    }
   ],
   "source": [
    "rand2 = np.random.random((2,2))\n",
    "print(rand2)"
   ]
  },
  {
   "cell_type": "markdown",
   "metadata": {},
   "source": [
    "#### Slicing Matrices\n",
    "Matrices can be inspected and examined in the same way as one-dimensional arrays. We will go into a little more depth here."
   ]
  },
  {
   "cell_type": "code",
   "execution_count": null,
   "metadata": {},
   "outputs": [],
   "source": [
    "mat = np.array([[0, 1, 2], [3, 4, 5], [6, 7, 8]])\n",
    "print(mat)"
   ]
  },
  {
   "cell_type": "code",
   "execution_count": 100,
   "metadata": {},
   "outputs": [
    {
     "name": "stdout",
     "output_type": "stream",
     "text": [
      "The centre of the matrix is 4\n",
      "The top row of the matrix is [0 1 2]\n",
      "The left-most column of the matrix is [0 3 6]\n"
     ]
    }
   ],
   "source": [
    "print('The centre of the matrix is', mat[1,1])\n",
    "print('The top row of the matrix is', mat[0]) #Note that this gets the top row, not the left-most column\n",
    "print('The left-most column of the matrix is', mat[:,0])"
   ]
  },
  {
   "cell_type": "markdown",
   "metadata": {},
   "source": [
    "We can use `:` to inspect chunks of the matrix together. Infact, when we do `mat[0]` this is shorthand for `mat[0,:]`.\n",
    "\n",
    "`:` can be used in several different ways. \n",
    "\n",
    "In the following example, where `:` is on its own, we get all values: `mat[0,0], mat[1,0], mat[2,0]`"
   ]
  },
  {
   "cell_type": "code",
   "execution_count": 102,
   "metadata": {},
   "outputs": [
    {
     "data": {
      "text/plain": [
       "array([0, 3, 6])"
      ]
     },
     "execution_count": 102,
     "metadata": {},
     "output_type": "execute_result"
    }
   ],
   "source": [
    "mat[:,0]"
   ]
  },
  {
   "cell_type": "markdown",
   "metadata": {},
   "source": [
    "This time, we will use another colon to the right of the comma. The first colon is the same as before but the second one now tells python that we want all values where the second index is less than 2. So we get `[mat[0,0], mat[0,1]]`, `[mat[1,0], mat[1,1]]`, `[[mat[2,0], mat[2,1]]`"
   ]
  },
  {
   "cell_type": "code",
   "execution_count": 104,
   "metadata": {
    "scrolled": true
   },
   "outputs": [
    {
     "data": {
      "text/plain": [
       "array([[0, 1],\n",
       "       [3, 4],\n",
       "       [6, 7]])"
      ]
     },
     "execution_count": 104,
     "metadata": {},
     "output_type": "execute_result"
    }
   ],
   "source": [
    "mat[:, :2]"
   ]
  },
  {
   "cell_type": "markdown",
   "metadata": {},
   "source": [
    "Our matrix has column indices `0, 1, 2` and row indices `0, 1, 2`.  in `mat[:2,:]` "
   ]
  },
  {
   "cell_type": "code",
   "execution_count": 106,
   "metadata": {},
   "outputs": [
    {
     "name": "stdout",
     "output_type": "stream",
     "text": [
      "The rightmost two columns of the matrix are \n",
      " [[1 2]\n",
      " [4 5]\n",
      " [7 8]]\n",
      "The top left square of the matrix is \n",
      " [[0 1]\n",
      " [3 4]]\n"
     ]
    }
   ],
   "source": [
    "print('The rightmost two columns of the matrix are \\n', mat[:, 1:]) \n",
    "\n",
    "print('The top left square of the matrix is \\n', mat[:2,:2])"
   ]
  },
  {
   "cell_type": "markdown",
   "metadata": {},
   "source": [
    "### Operations on arrays"
   ]
  }
 ],
 "metadata": {
  "kernelspec": {
   "display_name": "Python 3",
   "language": "python",
   "name": "python3"
  },
  "language_info": {
   "codemirror_mode": {
    "name": "ipython",
    "version": 3
   },
   "file_extension": ".py",
   "mimetype": "text/x-python",
   "name": "python",
   "nbconvert_exporter": "python",
   "pygments_lexer": "ipython3",
   "version": "3.7.4"
  }
 },
 "nbformat": 4,
 "nbformat_minor": 2
}
