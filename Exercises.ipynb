{
 "cells": [
  {
   "cell_type": "markdown",
   "metadata": {},
   "source": [
    "## Exercise 1\n",
    "The Rectified Linear Unit function $\\operatorname{ReLU}(x) = \\max\\{0,x\\}$ is a non-linearity which is essential to most neural networks.\n",
    "\n",
    "**1. a)** Write a function that will take a floating point number $x$ and return $\\operatorname{ReLU}(x)$.\n",
    "\n",
    "Hint: \n",
    "The ReLU function can be reformulated as \n",
    "> $\\operatorname{ReLU}(x) =  \\begin{cases}\n",
    "x & \\mathrm{if} \\, x \\geq 0,\\\\ \n",
    "0 & \\mathrm{if} \\, x < 0.\n",
    "\\end{cases}$\n",
    "\n",
    "\n",
    "**1. b)** An extension of ReLU is the Exponential Linear Unit. \n",
    "\n",
    "> $\\operatorname{ELU}(x) =  \\begin{cases}\n",
    "x &  \\mathrm{if} \\, x \\geq 0,\\\\ \n",
    "\\alpha(\\mathrm{e}^x-1) & \\mathrm{if} \\, x < 0. \\end{cases}$\n",
    "\n",
    "Hint:\n",
    "You might need `np.exp`."
   ]
  }
 ],
 "metadata": {
  "kernelspec": {
   "display_name": "Python 3",
   "language": "python",
   "name": "python3"
  },
  "language_info": {
   "codemirror_mode": {
    "name": "ipython",
    "version": 3
   },
   "file_extension": ".py",
   "mimetype": "text/x-python",
   "name": "python",
   "nbconvert_exporter": "python",
   "pygments_lexer": "ipython3",
   "version": "3.7.4"
  }
 },
 "nbformat": 4,
 "nbformat_minor": 2
}
