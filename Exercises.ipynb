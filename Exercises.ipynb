{
 "cells": [
  {
   "cell_type": "markdown",
   "metadata": {},
   "source": [
    "### Overview\n",
    "The goal of these exercises is to challenge you a little bit and make you think. The questions are designed to allow you to have a play around and try a few things before getting to the answer. The solutions are obtainable by writing very similar to code to what has been explored in these notebooks, but may require an extra step of logic. \n",
    "\n",
    "The solutions will be released after the lecture on Thursday.\n",
    "\n",
    "Let's start with importing libraries and the lists and arrays that you will be working on throughout this notebook."
   ]
  },
  {
   "cell_type": "code",
   "execution_count": 2,
   "metadata": {},
   "outputs": [],
   "source": [
    "import numpy as np\n",
    "\n",
    "list1 = [-10, -5, -2, 0, 2, 5, 10]\n",
    "mat = np.array([[0, 1, 2], [3, 4, 5], [6, 7, 8]])"
   ]
  },
  {
   "cell_type": "markdown",
   "metadata": {},
   "source": [
    "## Exercise 1\n",
    "\n",
    "The Rectified Linear Unit function $\\operatorname{ReLU}(x) = \\max\\{0,x\\}$ is a non-linearity which is essential to most neural networks.\n",
    "\n",
    "**1. a)** Write a function that will take a floating point number $x$ and return $\\operatorname{ReLU}(x)$. Test your function on the `list1`. \n",
    "\n",
    "Hint: \n",
    "The ReLU function can be reformulated as \n",
    "> $\\operatorname{ReLU}(x) =  \\begin{cases}\n",
    "x & \\mathrm{if} \\, x \\geq 0,\\\\ \n",
    "0 & \\mathrm{if} \\, x < 0.\n",
    "\\end{cases}$"
   ]
  },
  {
   "cell_type": "code",
   "execution_count": null,
   "metadata": {
    "scrolled": true
   },
   "outputs": [],
   "source": [
    "def ReLU(x):"
   ]
  },
  {
   "cell_type": "markdown",
   "metadata": {},
   "source": [
    "**1. b)** An extension of ReLU is the Exponential Linear Unit. \n",
    "\n",
    "> $\\operatorname{ELU}(x) =  \\begin{cases}\n",
    "x &  \\mathrm{if} \\, x \\geq 0,\\\\ \n",
    "\\alpha(\\mathrm{e}^x-1) & \\mathrm{if} \\, x < 0. \\end{cases}$\n",
    "\n",
    "Write a function which will return $\\operatorname{ELU}(x)$ for a given $\\alpha$. Test your function on the `list1`. \n",
    "\n",
    "Hint:\n",
    "You might need `np.exp`."
   ]
  },
  {
   "cell_type": "code",
   "execution_count": null,
   "metadata": {},
   "outputs": [],
   "source": [
    "alpha = 0.1\n",
    "\n",
    "def ELU(x, alpha):"
   ]
  },
  {
   "cell_type": "markdown",
   "metadata": {},
   "source": [
    "## Exercise 2\n",
    "**2. a)** Take the matrix `mat` that we used in the 'Numpy and Arrays' notebook. Use numpy to switch the second and third rows of the matrix."
   ]
  },
  {
   "cell_type": "code",
   "execution_count": 21,
   "metadata": {},
   "outputs": [],
   "source": []
  },
  {
   "cell_type": "markdown",
   "metadata": {},
   "source": [
    "**2. b)** Create a function that can swap any two rows of any given matrix. Include checks that the indices you input exist in the matrix."
   ]
  },
  {
   "cell_type": "code",
   "execution_count": 23,
   "metadata": {},
   "outputs": [
    {
     "ename": "SyntaxError",
     "evalue": "unexpected EOF while parsing (<ipython-input-23-c70ccfda8762>, line 1)",
     "output_type": "error",
     "traceback": [
      "\u001b[1;36m  File \u001b[1;32m\"<ipython-input-23-c70ccfda8762>\"\u001b[1;36m, line \u001b[1;32m1\u001b[0m\n\u001b[1;33m    def swap_rows(matrix, idx1, idx2):\u001b[0m\n\u001b[1;37m                                      ^\u001b[0m\n\u001b[1;31mSyntaxError\u001b[0m\u001b[1;31m:\u001b[0m unexpected EOF while parsing\n"
     ]
    }
   ],
   "source": [
    "def swap_rows(matrix, idx1, idx2):"
   ]
  },
  {
   "cell_type": "markdown",
   "metadata": {},
   "source": [
    "**2. c)** Print the top right 2x2 square of the matrix `mat`."
   ]
  },
  {
   "cell_type": "code",
   "execution_count": null,
   "metadata": {},
   "outputs": [],
   "source": []
  }
 ],
 "metadata": {
  "kernelspec": {
   "display_name": "Python 3",
   "language": "python",
   "name": "python3"
  },
  "language_info": {
   "codemirror_mode": {
    "name": "ipython",
    "version": 3
   },
   "file_extension": ".py",
   "mimetype": "text/x-python",
   "name": "python",
   "nbconvert_exporter": "python",
   "pygments_lexer": "ipython3",
   "version": "3.7.4"
  }
 },
 "nbformat": 4,
 "nbformat_minor": 2
}
